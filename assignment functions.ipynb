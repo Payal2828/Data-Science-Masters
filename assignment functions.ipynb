{
 "cells": [
  {
   "cell_type": "markdown",
   "id": "98b9350c-f56a-482d-bb40-a290981757d4",
   "metadata": {},
   "source": [
    "# ASSIGNMENT "
   ]
  },
  {
   "cell_type": "markdown",
   "id": "6b502d23-04a2-4a71-b741-0fcf4f69711f",
   "metadata": {},
   "source": [
    "QUES1) Which keyword is used to create a function?Create a function to return a list of odd nos. in the range 1 to 25."
   ]
  },
  {
   "cell_type": "markdown",
   "id": "e592bca1-6cd2-418e-b8f7-2aa032467f95",
   "metadata": {},
   "source": [
    "Ans1) The def keyword is used to create a function."
   ]
  },
  {
   "cell_type": "code",
   "execution_count": 1,
   "id": "3e5feb9a-7425-4207-9870-50b740a6be13",
   "metadata": {},
   "outputs": [],
   "source": [
    "def test(a,b):\n",
    "    n=[]\n",
    "    for i in range(a,b):\n",
    "        if i%2 != 0:\n",
    "            n.append(i)\n",
    "    return(n)       "
   ]
  },
  {
   "cell_type": "code",
   "execution_count": 2,
   "id": "900a191d-7772-45ed-9711-d2305016ab3d",
   "metadata": {},
   "outputs": [
    {
     "data": {
      "text/plain": [
       "[1, 3, 5, 7, 9, 11, 13, 15, 17, 19, 21, 23]"
      ]
     },
     "execution_count": 2,
     "metadata": {},
     "output_type": "execute_result"
    }
   ],
   "source": [
    "test(1,25)"
   ]
  },
  {
   "cell_type": "markdown",
   "id": "2fb9cbf5-289b-4747-a805-781f797da123",
   "metadata": {},
   "source": [
    "Ques2) Why *args and **kwargs is used in some functions?Create a function each for *args and **kwargs to demonstrate their use."
   ]
  },
  {
   "cell_type": "markdown",
   "id": "3b202dc8-3672-4371-8c5a-b6d8c3e0387e",
   "metadata": {},
   "source": [
    "Ans2) *args is used to for having n no. of arguments while defining a function and **kwargs is used to give arguments to get dictionary while defining a function. egs:-"
   ]
  },
  {
   "cell_type": "code",
   "execution_count": 4,
   "id": "8d1e3601-4455-442b-a051-bad248f56b60",
   "metadata": {},
   "outputs": [],
   "source": [
    "def test1(*args):\n",
    "    return args"
   ]
  },
  {
   "cell_type": "code",
   "execution_count": 5,
   "id": "0f1b8b00-88ba-4b88-bebf-69b3709298a7",
   "metadata": {},
   "outputs": [
    {
     "data": {
      "text/plain": [
       "(1, 2, 3, 4, [1, 3, 5], 'pwskills')"
      ]
     },
     "execution_count": 5,
     "metadata": {},
     "output_type": "execute_result"
    }
   ],
   "source": [
    "test1(1,2,3,4,[1,3,5],\"pwskills\")"
   ]
  },
  {
   "cell_type": "code",
   "execution_count": 6,
   "id": "89875c41-3fa3-4cfa-ad71-ee16d5ab3f6b",
   "metadata": {},
   "outputs": [],
   "source": [
    "def test2(**kwargs):\n",
    "    return kwargs"
   ]
  },
  {
   "cell_type": "code",
   "execution_count": 7,
   "id": "57b0627e-d6b8-44c1-a4b4-bffbd6078ce0",
   "metadata": {},
   "outputs": [
    {
     "data": {
      "text/plain": [
       "{'a': 2, 'b': 8, 'c': 'pwskills'}"
      ]
     },
     "execution_count": 7,
     "metadata": {},
     "output_type": "execute_result"
    }
   ],
   "source": [
    "test2(a=2,b=8,c=\"pwskills\")"
   ]
  },
  {
   "cell_type": "markdown",
   "id": "5611ac52-6971-4d78-b5b0-874a3e88116c",
   "metadata": {},
   "source": [
    "Q3. What is an iterator in python? Name the method used to initialise the iterator object and the method\n",
    "used for iteration. Use these methods to print the first five elements of the given list [2, 4, 6, 8, 10, 12, 14, 16,\n",
    "18, 20]."
   ]
  },
  {
   "cell_type": "markdown",
   "id": "3f8a080b-8dcf-4d90-8a59-ed3b329ea456",
   "metadata": {},
   "source": [
    "A3) An iterator in Python is an object that is used to iterate over iterable objects like lists, tuples, dicts, and sets. The Python iterators object is initialized using the iter() method. It uses the next() method for iteration.\n",
    "\n",
    "__iter__(): The iter() method is called for the initialization of an iterator. This returns an iterator object.\n",
    "\n",
    "__next__(): The next method returns the next value for the iterable. When we use a for loop to traverse any iterable object, internally it uses the iter() method to get an iterator object, which further uses the next() method to iterate over. This method raises a StopIteration to signal the end of the iteration."
   ]
  },
  {
   "cell_type": "code",
   "execution_count": null,
   "id": "28703bff-73e3-40aa-a4cd-1326123d51ef",
   "metadata": {},
   "outputs": [],
   "source": [
    "l=[2,4,6,8,10,14,16,18,20]\n",
    "iterator=iter(l)\n",
    "for i in range(0,5):\n",
    "    print(next(iterator))"
   ]
  },
  {
   "cell_type": "markdown",
   "id": "1e2f8a84-bbc9-4154-a39d-e218caf343ad",
   "metadata": {},
   "source": [
    "Q4. What is a generator function in python? Why yield keyword is used? Give an example of a generator\n",
    "function."
   ]
  },
  {
   "cell_type": "markdown",
   "id": "75753d4c-8525-4434-ba48-ae8a4b90139e",
   "metadata": {},
   "source": [
    "A4)In Python, generator functions are those functions that, instead of returning a single value, return an iterable generator object.The values returned by yield statement are stored as local variables states, which allows control over memory overhead allocation.eg:-"
   ]
  },
  {
   "cell_type": "code",
   "execution_count": null,
   "id": "998d36c5-45d7-477c-859d-43356df69367",
   "metadata": {},
   "outputs": [],
   "source": [
    "\n",
    "# A generator function that yields 1 for first time,\n",
    "# 2 second time and 3 third time\n",
    "def simpleGeneratorFun():\n",
    "    yield 1           \n",
    "    yield 2           \n",
    "    yield 3 \n",
    "    "
   ]
  },
  {
   "cell_type": "markdown",
   "id": "7dbed1e6-650c-412c-b01f-0d4223260b26",
   "metadata": {},
   "source": [
    "Q5. Create a generator function for prime numbers less than 1000. Use the next() method to print the\n",
    "first 20 prime numbers."
   ]
  },
  {
   "cell_type": "markdown",
   "id": "3d943a25-ee02-4ce8-a7cc-6867940a243c",
   "metadata": {},
   "source": [
    "A5)"
   ]
  },
  {
   "cell_type": "code",
   "execution_count": null,
   "id": "d3746b43-0a07-43b9-8c48-741eaf73bd9a",
   "metadata": {},
   "outputs": [],
   "source": [
    "def test3(n):\n",
    "    for i in range(0,n):\n",
    "        for j in range(1,i):\n",
    "            if i%j!=0:\n",
    "                yield i\n",
    "                print(next(i))\n",
    "           \n",
    "            \n",
    "                "
   ]
  }
 ],
 "metadata": {
  "kernelspec": {
   "display_name": "Python 3 (ipykernel)",
   "language": "python",
   "name": "python3"
  },
  "language_info": {
   "codemirror_mode": {
    "name": "ipython",
    "version": 3
   },
   "file_extension": ".py",
   "mimetype": "text/x-python",
   "name": "python",
   "nbconvert_exporter": "python",
   "pygments_lexer": "ipython3",
   "version": "3.10.8"
  }
 },
 "nbformat": 4,
 "nbformat_minor": 5
}
