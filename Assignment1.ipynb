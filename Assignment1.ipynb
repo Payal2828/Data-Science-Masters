{
 "cells": [
  {
   "cell_type": "markdown",
   "id": "7f8d5783-864c-4790-b4a9-99dd60fb476e",
   "metadata": {},
   "source": [
    "#ASSIGNMENT :1"
   ]
  },
  {
   "cell_type": "markdown",
   "id": "04c4116e-9a45-40d4-8c9c-087aea999b66",
   "metadata": {},
   "source": [
    "Q1) Who developed Pythonm programming language?\n",
    "A1) Python programming language was developed by Guido van Rossum.\n",
    "\n",
    "Q2)Which type of programming does Python support?\n",
    "A2)Python supports dynamic programming.\n",
    "\n",
    "Q3)Is Python case sensitive when dealing with identifiers?\n",
    "A3)Yes, Python is case sensitive when dealing with identifiers.\n",
    "\n",
    "Q4)What is the correct extension of Python file?\n",
    "A4).py is the correct extension of python file.\n",
    "\n",
    "Q5)Is python code compiled or interpreted?\n",
    "A5)The code is interpreted.\n",
    "\n",
    "Q6)Name a few blocks of code used to define in python language?\n",
    "A6)The few blocks are: module, a function body, a class definition.\n",
    "\n",
    "Q7)State a character used to give single line comments in python?\n",
    "A7)# character is used to give single line comments in Python.\n",
    "\n",
    "Q8)Mention functions which can help us to find the version of python that we are currently working on?\n",
    "A8)The functions that can help us to find the version of Python we are working on are:\n",
    "   - python_version()\n",
    "   - the.python_version()\n",
    "   - sys.version\n",
    "\n",
    "Q9)Python supports the creation of anonymous functions at runtime,using a construct called ---\n",
    "A9) lambda\n",
    "\n",
    "Q10)What does pip stand for python?\n",
    "A10)pip is the standard tool for installing Python packages and their dependencies in a secure manner.\n",
    "\n",
    "Q11)Mention a few built-in functions in Python?\n",
    "A11)The few built-in functions in python are:\n",
    "    bool() , int(), float(), len(),print(),str(),type(),abs() etc\n",
    "    \n",
    "Q12)What is the maximum possible length of an identifier in Python?\n",
    "A12) 79 characters\n",
    "\n",
    "Q13)What are the benefits of Python?\n",
    "A13)- It is simple to use and understand.\n",
    "    - It has extensive library.\n",
    "    - It is free and open source.\n",
    "    - It is dynamically typed.\n",
    "    - It is interpreted language.\n",
    "    - We can visualize data using Python.\n",
    "    \n",
    "Q14)How is memory managed in Python?\n",
    "A14)Memory management in Python involves the management of private heap.A private heap is a portion of memory that is exclusive to the Python process.\n",
    "\n",
    "Q15)How to install Python on Windows and set path variables?\n",
    "A15)Select Version of Python to Install.\n",
    "    Download Python Executable Installer\n",
    "    Run Executable Installer.\n",
    "    The complete path of python.exe can be added by:\n",
    "    1) Right-clicking This PC and going to Properties.\n",
    "    2) Clicking on the Advanced system settings in the menu on the left.\n",
    "    3) Clicking on the Environment Variables button o​n the bottom right.\n",
    "    4) In the System variables section, selecting the Path variable and clicking on Edit. The next screen will          show all the directories that are currently a part of the PATH variable.\n",
    "    5) Clicking on New and entering Python’s install directory.\n",
    "    \n",
    " \n",
    " \n"
   ]
  },
  {
   "cell_type": "markdown",
   "id": "d0526a26-88a2-490e-abd4-a0e7fc7516df",
   "metadata": {},
   "source": [
    " Q16)Is identation required in Python? A16)Yes identation is mandatory.\n",
    "                                      "
   ]
  },
  {
   "cell_type": "code",
   "execution_count": null,
   "id": "13b31a53-1943-4a80-94f3-dfd8ff2097ad",
   "metadata": {},
   "outputs": [],
   "source": []
  }
 ],
 "metadata": {
  "kernelspec": {
   "display_name": "Python 3 (ipykernel)",
   "language": "python",
   "name": "python3"
  },
  "language_info": {
   "codemirror_mode": {
    "name": "ipython",
    "version": 3
   },
   "file_extension": ".py",
   "mimetype": "text/x-python",
   "name": "python",
   "nbconvert_exporter": "python",
   "pygments_lexer": "ipython3",
   "version": "3.10.8"
  }
 },
 "nbformat": 4,
 "nbformat_minor": 5
}
