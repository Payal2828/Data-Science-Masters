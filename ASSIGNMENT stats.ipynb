{
 "cells": [
  {
   "cell_type": "markdown",
   "id": "47f97dab-e171-4943-b699-646bbcbac955",
   "metadata": {},
   "source": [
    "# ASSIGNMENT "
   ]
  },
  {
   "cell_type": "markdown",
   "id": "d7072594-7d62-427a-bc1c-f2c98ce5328f",
   "metadata": {},
   "source": [
    "Q1) What is Statistics?\n"
   ]
  },
  {
   "cell_type": "markdown",
   "id": "e35f956c-4e00-4065-9e53-9c6e0befa9e7",
   "metadata": {},
   "source": [
    "A1) Statistics is the science of collecting,organising and analysing the data."
   ]
  },
  {
   "cell_type": "markdown",
   "id": "2b61a9f2-537f-4d70-93e8-8f22295881d6",
   "metadata": {},
   "source": [
    "Q2)Define the different types of statistics and give an example of when each type might be used."
   ]
  },
  {
   "cell_type": "markdown",
   "id": "f8de1aa1-6739-4d65-8284-0c250057bfb5",
   "metadata": {},
   "source": [
    "A2)There are two types of statistics:-\n",
    "- Descriptive Statistics :It consists of organising and summarising the data.To summarize the data we use measure of central tendency,measure of dispersion, histogram etc.\n",
    "- Inferential Statistics :It consists of using data to form conclusions.We use z-test, t-test, hypothesis testing to draw conclusions.\n",
    "For eg:- let us say there are 50 students in a class and we have collected the height of the students.\n",
    "Descriptive stats qs - What is the average height of the student?\n",
    "Inferential Stats qs- Are the average height of the students in the classroom similar to what you expect in the entire college?"
   ]
  },
  {
   "cell_type": "markdown",
   "id": "7815eec0-4682-4c5a-9b0b-868a1794e34b",
   "metadata": {},
   "source": [
    "Q3. What are the different types of data and how do they differ from each other? Provide an example of\n",
    "each type of data."
   ]
  },
  {
   "cell_type": "markdown",
   "id": "57a358c7-ff45-43bb-922d-0db56daec693",
   "metadata": {},
   "source": [
    "A3)The different types of data are:-\n",
    " - Quantitative data :-\n",
    "    It is the numerical data.It is of two types:-\n",
    "    a) Discrete - It consists of whole numbers.eg- No. of children in a class\n",
    "    b) Continuous - It consists of any value. eg- weight, height, temperature\n",
    " - Qualitative data :- \n",
    "   It is categorical data. It is of two types:-\n",
    "    a) Nominal- Eg:-Gender (Male,female)\n",
    "    b) Ordinal - We can assign ranks to such data. Eg- winners in a 100m race"
   ]
  },
  {
   "cell_type": "markdown",
   "id": "777362e7-28be-407e-ac6d-031ed20fcd32",
   "metadata": {},
   "source": [
    "Q4. Categorise the following datasets with respect to quantitative and qualitative data types:\n",
    "(i) Grading in exam: A+, A, B+, B, C+, C, D, E ans- Ordinal\n",
    "(ii) Colour of mangoes: yellow, green, orange, red ans- nominal\n",
    "(iii) Height data of a class: [178.9, 179, 179.5, 176, 177.2, 178.3, 175.8,...] ans-continuous\n",
    "(iv) Number of mangoes exported by a farm: [500, 600, 478, 672, ...] ans- discrete"
   ]
  },
  {
   "cell_type": "markdown",
   "id": "21d1f804-ed6c-4772-bb41-4cb281f65e78",
   "metadata": {},
   "source": [
    "Q5. Explain the concept of levels of measurement and give an example of a variable for each level."
   ]
  },
  {
   "cell_type": "markdown",
   "id": "51437df9-e41f-455d-820a-29cf9995440c",
   "metadata": {},
   "source": [
    "A5) 1)NOMINAL SCALE DATA :\n",
    "    It is qualitativde/categorical variable.\n",
    "    eg- gender(male/female)\n",
    "    2)ORDINAL SCALE DATA :\n",
    "    Ranking and order matters.\n",
    "    Difference cannot be measured.\n",
    "    eg- A person has done PHD,Masters,B.SC.\n",
    "    PHD-1st\n",
    "    Masters-2nd\n",
    "    B.Sc - 3rd\n",
    "    3)INTERVAL SCALE DATA\n",
    "    The rank and order matters.\n",
    "    Difference can be measured excluding ratio.\n",
    "    Does not have 0 starting value.\n",
    "    eg- temperature\n",
    "    4)RATIO SCALE DATA\n",
    "     The rank and order matters.\n",
    "      Difference & ratio can be measured.\n",
    "    It has 0 starting.\n",
    "    eg-marks of a student"
   ]
  },
  {
   "cell_type": "markdown",
   "id": "c69e0b5c-0896-4fdb-b8d6-b2806b2a86c7",
   "metadata": {},
   "source": [
    "Q6. Why is it important to understand the level of measurement when analyzing data? Provide an\n",
    "example to illustrate your answer."
   ]
  },
  {
   "cell_type": "markdown",
   "id": "a46d2411-147b-45b8-bc1f-b77b11a7f149",
   "metadata": {},
   "source": [
    "\n",
    "It is important to understand the level of measurement of variables in research, because the level of measurement determines the type of statistical analysis that can be conducted, and, therefore, the type of conclusions that can be drawn from the research.For example, in medical research, the measurement scales used to measure variables such as blood pressure, heart rate, and body mass index are critical in diagnosing and treating diseases. Accurate and reliable measurements of these variables are essential for doctors to make informed decisions about treatment options and to monitor the effectiveness of those treatments."
   ]
  },
  {
   "cell_type": "markdown",
   "id": "54dc38b5-9c18-4326-81a9-7a2e3e93e83b",
   "metadata": {},
   "source": [
    "Q7. How nominal data type is different from ordinal data type."
   ]
  },
  {
   "cell_type": "markdown",
   "id": "abfd521b-7b66-47c8-9566-dabb0e937da3",
   "metadata": {},
   "source": [
    "A7) 1)NOMINAL SCALE DATA :\n",
    "    It is qualitativde/categorical variable.\n",
    "    eg- gender(male/female)\n",
    "    2)ORDINAL SCALE DATA :\n",
    "    Ranking and order matters.\n",
    "    Difference cannot be measured.\n",
    "    eg- A person has done PHD,Masters,B.SC.\n",
    "    PHD-1st\n",
    "    Masters-2nd\n",
    "    B.Sc - 3rd"
   ]
  },
  {
   "cell_type": "markdown",
   "id": "a3e19e42-9f52-4273-bbf2-54f1cf7995cc",
   "metadata": {},
   "source": [
    "Q8. Which type of plot can be used to display data in terms of range?"
   ]
  },
  {
   "cell_type": "markdown",
   "id": "ba94d708-df2a-44b5-8b6c-f8776e784dd2",
   "metadata": {},
   "source": [
    "A8)Histogram. If the groups depicted in a bar chart are actually continuous numeric ranges, we can push the bars together to generate a histogram. Bar lengths in histograms typically correspond to counts of data points, and their patterns demonstrate the distribution of variables in your data."
   ]
  },
  {
   "cell_type": "markdown",
   "id": "08ee5b98-d8ce-41cb-9b42-9c1a713fff66",
   "metadata": {},
   "source": [
    "Q9. Describe the difference between descriptive and inferential statistics. Give an example of each\n",
    "type of statistics and explain how they are used."
   ]
  },
  {
   "cell_type": "markdown",
   "id": "539d7249-0fee-4acb-9be0-c61028e41f4f",
   "metadata": {},
   "source": [
    "A9)\n",
    "- Descriptive Statistics :It consists of organising and summarising the data.To summarize the data we use measure of central tendency,measure of dispersion, histogram etc.\n",
    "- Inferential Statistics :It consists of using data to form conclusions.We use z-test, t-test, hypothesis testing to draw conclusions.\n",
    "For eg:- let us say there are 50 students in a class and we have collected the height of the students.\n",
    "Descriptive stats qs - What is the average height of the student?\n",
    "Inferential Stats qs- Are the average height of the students in the classroom similar to what you expect in the entire college?"
   ]
  },
  {
   "cell_type": "markdown",
   "id": "c8a44579-86b0-456c-8065-0bd96c291bc1",
   "metadata": {},
   "source": [
    "Q10. What are some common measures of central tendency and variability used in statistics? Explain\n",
    "how each measure can be used to describe a dataset."
   ]
  },
  {
   "cell_type": "code",
   "execution_count": null,
   "id": "75b28e95-ff65-4315-b3b8-18528fd1c93c",
   "metadata": {},
   "outputs": [],
   "source": [
    "Central tendency and variation are two measures used in statistics to summarize data. Measure of central\n",
    "tendency shows where the center or middle of the data set is located, whereas measure of variation shows\n",
    "the dispersion among data values."
   ]
  }
 ],
 "metadata": {
  "kernelspec": {
   "display_name": "Python 3 (ipykernel)",
   "language": "python",
   "name": "python3"
  },
  "language_info": {
   "codemirror_mode": {
    "name": "ipython",
    "version": 3
   },
   "file_extension": ".py",
   "mimetype": "text/x-python",
   "name": "python",
   "nbconvert_exporter": "python",
   "pygments_lexer": "ipython3",
   "version": "3.10.8"
  }
 },
 "nbformat": 4,
 "nbformat_minor": 5
}
