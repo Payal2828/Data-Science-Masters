{
 "cells": [
  {
   "cell_type": "markdown",
   "id": "3b2f5d1e-7de4-420d-8a93-8ffccd84aea3",
   "metadata": {},
   "source": [
    "# ASSIGNMENT"
   ]
  },
  {
   "cell_type": "markdown",
   "id": "c09f8b13-c206-4b74-b2ab-ff4cab3b098b",
   "metadata": {},
   "source": [
    "ques1)"
   ]
  },
  {
   "cell_type": "code",
   "execution_count": 9,
   "id": "743e9db3-65b3-4f8e-a8df-8faad969291c",
   "metadata": {},
   "outputs": [
    {
     "name": "stdin",
     "output_type": "stream",
     "text": [
      "enter the percentage scored: 78.9\n"
     ]
    },
    {
     "name": "stdout",
     "output_type": "stream",
     "text": [
      "Grade C\n"
     ]
    }
   ],
   "source": [
    "percent=float(input(\"enter the percentage scored:\"))\n",
    "if percent >90:\n",
    "    print(\"Grade A\")\n",
    "elif percent >80 and percent <=90:\n",
    "    print(\"Grade B\")\n",
    "elif percent >=60 and percent <=80:\n",
    "    print(\"Grade C\")\n",
    "else:\n",
    "    print(\"Grade D\")\n",
    "        "
   ]
  },
  {
   "cell_type": "markdown",
   "id": "965913be-8dad-40ae-8526-ac8fc683f635",
   "metadata": {},
   "source": [
    "ques2)"
   ]
  },
  {
   "cell_type": "code",
   "execution_count": 15,
   "id": "d509e411-ce2f-4646-b1e5-cfa112e3d058",
   "metadata": {},
   "outputs": [
    {
     "name": "stdin",
     "output_type": "stream",
     "text": [
      "enter the cost price of a bike: 8000\n"
     ]
    },
    {
     "name": "stdout",
     "output_type": "stream",
     "text": [
      "tax to be paid =  400.0\n"
     ]
    }
   ],
   "source": [
    "cost=int(input(\"enter the cost price of a bike:\"))\n",
    "if cost>100000:\n",
    "    amount = (15*cost)/100\n",
    "    print(\"tax to be paid = \",amount)\n",
    "elif cost>50000 and cost<=100000:\n",
    "    amount = (10*cost)/100\n",
    "    print(\"tax to be paid = \",amount)\n",
    "else:\n",
    "    amount = (5*cost)/100\n",
    "    print(\"tax to be paid = \",amount)"
   ]
  },
  {
   "cell_type": "markdown",
   "id": "989ff846-d13a-4821-ad60-6abeaa3547f2",
   "metadata": {},
   "source": [
    "ques3)"
   ]
  },
  {
   "cell_type": "code",
   "execution_count": 23,
   "id": "24fd7369-fbba-4725-9ab7-2319d92fc406",
   "metadata": {},
   "outputs": [
    {
     "name": "stdin",
     "output_type": "stream",
     "text": [
      "choose the city from delhi, agra, jaipur: agra\n"
     ]
    },
    {
     "name": "stdout",
     "output_type": "stream",
     "text": [
      "monument name: TAJ MAHAL\n"
     ]
    }
   ],
   "source": [
    "city=input(\"choose the city from delhi, agra, jaipur:\")\n",
    "if city == 'delhi':\n",
    "    print(\"monument name: RED FORT\")\n",
    "if city =='agra':\n",
    "    print(\"monument name: TAJ MAHAL\")\n",
    "if city =='jaipur':\n",
    "    print(\"monument name: JAL MAHAL\")\n"
   ]
  },
  {
   "cell_type": "markdown",
   "id": "f450adf3-3a7c-424e-9132-d56fb332061e",
   "metadata": {},
   "source": [
    "ques4"
   ]
  },
  {
   "cell_type": "code",
   "execution_count": 30,
   "id": "8c2261c4-6589-46b2-8810-2c8d80a46693",
   "metadata": {},
   "outputs": [
    {
     "name": "stdin",
     "output_type": "stream",
     "text": [
      "enter the number: 99\n"
     ]
    },
    {
     "name": "stdout",
     "output_type": "stream",
     "text": [
      "2\n"
     ]
    }
   ],
   "source": [
    "num=int(input(\"enter the number:\"))\n",
    "count=0\n",
    "for i in range(1,1000000,1):\n",
    "    a =num/3\n",
    "    if a >10:\n",
    "        count =count+1\n",
    "        num =a\n",
    "    else:\n",
    "        break\n",
    "print(count)        "
   ]
  },
  {
   "cell_type": "markdown",
   "id": "3d911e78-65ac-4baa-8fb9-9c5af19034df",
   "metadata": {},
   "source": [
    "ques5"
   ]
  },
  {
   "cell_type": "markdown",
   "id": "4bb3558c-7371-49e1-8665-3719276e8cbc",
   "metadata": {},
   "source": [
    "Python while loop is used to run a block code until a certain condition is met. Here, A while loop evaluates the condition. If the condition evaluates to True , the code inside the while loop is executed.For example, if we want to ask a user for a number between 1 and 10, we don't know how many times the user may enter a larger number, so we keep asking \"while the number is not between 1 and 10\"."
   ]
  },
  {
   "cell_type": "markdown",
   "id": "34e2ed6f-ca67-4dd4-8b96-8184fa410e57",
   "metadata": {},
   "source": [
    "ques6)\n"
   ]
  },
  {
   "cell_type": "code",
   "execution_count": 31,
   "id": "ceaf657f-f2c1-472b-a982-a69c48772992",
   "metadata": {},
   "outputs": [
    {
     "name": "stdout",
     "output_type": "stream",
     "text": [
      "1 \n",
      "3 3 \n",
      "5 5 5 \n",
      "7 7 7 7 \n",
      "9 9 9 9 9 \n"
     ]
    }
   ],
   "source": [
    "rows = 5\n",
    "i = 1\n",
    "while i <= rows:\n",
    "    j = 1\n",
    "    while j <= i:\n",
    "        print((i * 2 - 1), end=\" \")\n",
    "        j = j + 1\n",
    "    i = i + 1\n",
    "    print('')"
   ]
  },
  {
   "cell_type": "code",
   "execution_count": 32,
   "id": "ef7a1531-63ba-456b-8201-d063ae4c4b0c",
   "metadata": {},
   "outputs": [
    {
     "name": "stdout",
     "output_type": "stream",
     "text": [
      "* * * * * \n",
      "  * * * * \n",
      "    * * * \n",
      "      * * \n",
      "        * \n"
     ]
    }
   ],
   "source": [
    "rows = 5\n",
    "i = rows\n",
    "while i >= 1:\n",
    "    j = rows\n",
    "    while j > i:\n",
    "        # display space\n",
    "        print(' ', end=' ')\n",
    "        j -= 1\n",
    "    k = 1\n",
    "    while k <= i:\n",
    "        print('*', end=' ')\n",
    "        k += 1\n",
    "    print()\n",
    "    i -= 1"
   ]
  },
  {
   "cell_type": "code",
   "execution_count": 34,
   "id": "b2629e5c-a4cd-420f-bea3-32d194cc4222",
   "metadata": {},
   "outputs": [
    {
     "name": "stdout",
     "output_type": "stream",
     "text": [
      "**************\n",
      "******__******\n",
      "*****____*****\n",
      "****______****\n",
      "***________***\n",
      "**__________**\n",
      "*____________*\n"
     ]
    }
   ],
   "source": [
    "rows = 14\n",
    "print(\"*\" * rows, end=\"\\n\")\n",
    "i = (rows // 2) - 1\n",
    "j = 2\n",
    "while i != 0:\n",
    "    while j <= (rows - 2):\n",
    "        print(\"*\" * i, end=\"\")\n",
    "        print(\"_\" * j, end=\"\")\n",
    "        print(\"*\" * i, end=\"\\n\")\n",
    "        i = i - 1\n",
    "        j = j + 2"
   ]
  },
  {
   "cell_type": "markdown",
   "id": "3ad62691-0e38-4a14-958b-5d1e778ef131",
   "metadata": {},
   "source": [
    "ques7)"
   ]
  },
  {
   "cell_type": "code",
   "execution_count": 35,
   "id": "fe977fd3-ca81-42e3-b24e-82c3b06936f0",
   "metadata": {},
   "outputs": [
    {
     "name": "stdout",
     "output_type": "stream",
     "text": [
      "10\n",
      "9\n",
      "8\n",
      "7\n",
      "6\n",
      "5\n",
      "4\n",
      "3\n",
      "2\n",
      "1\n"
     ]
    }
   ],
   "source": [
    "i = 10\n",
    "while i > 0:\n",
    "    print(i)\n",
    "    i = i - 1"
   ]
  },
  {
   "cell_type": "markdown",
   "id": "fad63943-3b82-40c6-9858-266cf6f0338e",
   "metadata": {},
   "source": [
    "ques8)"
   ]
  },
  {
   "cell_type": "code",
   "execution_count": 36,
   "id": "fb754f5f-6963-4cb1-b228-081eb279075a",
   "metadata": {},
   "outputs": [
    {
     "name": "stdout",
     "output_type": "stream",
     "text": [
      "10\n",
      "9\n",
      "8\n",
      "7\n",
      "6\n",
      "5\n",
      "4\n",
      "3\n",
      "2\n",
      "1\n"
     ]
    }
   ],
   "source": [
    "i = 10\n",
    "while i > 0:\n",
    "    print(i)\n",
    "    i = i - 1"
   ]
  },
  {
   "cell_type": "code",
   "execution_count": null,
   "id": "96e661f9-622a-43ec-b5b7-f78fce22a085",
   "metadata": {},
   "outputs": [],
   "source": []
  }
 ],
 "metadata": {
  "kernelspec": {
   "display_name": "Python 3 (ipykernel)",
   "language": "python",
   "name": "python3"
  },
  "language_info": {
   "codemirror_mode": {
    "name": "ipython",
    "version": 3
   },
   "file_extension": ".py",
   "mimetype": "text/x-python",
   "name": "python",
   "nbconvert_exporter": "python",
   "pygments_lexer": "ipython3",
   "version": "3.10.8"
  }
 },
 "nbformat": 4,
 "nbformat_minor": 5
}
