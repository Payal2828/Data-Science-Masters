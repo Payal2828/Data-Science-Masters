{
 "cells": [
  {
   "cell_type": "markdown",
   "id": "df6820b5-3de3-420a-b038-38febca847b2",
   "metadata": {},
   "source": [
    "# ASSIGNMENT (BASIC STATISTICS)"
   ]
  },
  {
   "cell_type": "markdown",
   "id": "2c50d7bf-755e-4ece-b2b0-ec73a97ee164",
   "metadata": {},
   "source": [
    "Q1. What are the three measures of central tendency?\n",
    "\n",
    "A1. There are three main measures of central tendency: mode, median, mean."
   ]
  },
  {
   "cell_type": "markdown",
   "id": "2267de91-b10d-4426-ad12-2dd7330a2ebc",
   "metadata": {},
   "source": [
    "Q2. What is the difference between the mean, median, and mode? How are they used to measure the\n",
    "central tendency of a dataset?\n",
    "\n",
    "A2.The mean is the average where the sum of all the numbers is divided by the total number of numbers, whereas the median is the middle value in the list of given numbers numerically ordered from smallest to biggest and mode is the value of the number which occurs most often in the list."
   ]
  },
  {
   "cell_type": "markdown",
   "id": "31d78e9d-d159-43af-9cae-f2425743fd63",
   "metadata": {},
   "source": [
    "Q3. Measure the three measures of central tendency for the given height data:\n",
    "[178,177,176,177,178.2,178,175,179,180,175,178.9,176.2,177,172.5,178,176.5]\n"
   ]
  },
  {
   "cell_type": "markdown",
   "id": "22dd7f2e-053c-425c-add6-aaf71fd8fe15",
   "metadata": {},
   "source": [
    "A3)"
   ]
  },
  {
   "cell_type": "code",
   "execution_count": 5,
   "id": "75b8b9ab-597b-43fd-a975-72ce0b70e6c2",
   "metadata": {},
   "outputs": [
    {
     "data": {
      "text/plain": [
       "177.01875"
      ]
     },
     "execution_count": 5,
     "metadata": {},
     "output_type": "execute_result"
    }
   ],
   "source": [
    "h=[178,177,176,177,178.2,178,175,179,180,175,178.9,176.2,177,172.5,178,176.5]\n",
    "import numpy as np\n",
    "np.mean(h)"
   ]
  },
  {
   "cell_type": "code",
   "execution_count": 6,
   "id": "8af51f29-0025-4b0f-90f2-5655a4193bc3",
   "metadata": {},
   "outputs": [
    {
     "data": {
      "text/plain": [
       "177.0"
      ]
     },
     "execution_count": 6,
     "metadata": {},
     "output_type": "execute_result"
    }
   ],
   "source": [
    "np.median(h)"
   ]
  },
  {
   "cell_type": "code",
   "execution_count": 7,
   "id": "3149ccec-1161-482a-ae8d-14510703c952",
   "metadata": {},
   "outputs": [
    {
     "name": "stderr",
     "output_type": "stream",
     "text": [
      "/tmp/ipykernel_110/1550205463.py:2: FutureWarning: Unlike other reduction functions (e.g. `skew`, `kurtosis`), the default behavior of `mode` typically preserves the axis it acts along. In SciPy 1.11.0, this behavior will change: the default value of `keepdims` will become False, the `axis` over which the statistic is taken will be eliminated, and the value None will no longer be accepted. Set `keepdims` to True or False to avoid this warning.\n",
      "  stats.mode(h)\n"
     ]
    },
    {
     "data": {
      "text/plain": [
       "ModeResult(mode=array([177.]), count=array([3]))"
      ]
     },
     "execution_count": 7,
     "metadata": {},
     "output_type": "execute_result"
    }
   ],
   "source": [
    "from scipy import stats\n",
    "stats.mode(h)\n"
   ]
  },
  {
   "cell_type": "markdown",
   "id": "7e69497d-3388-46f3-a400-348c5f154525",
   "metadata": {},
   "source": [
    "Q4. Find the standard deviation for the given data:\n",
    "[178,177,176,177,178.2,178,175,179,180,175,178.9,176.2,177,172.5,178,176.5]"
   ]
  },
  {
   "cell_type": "markdown",
   "id": "738bab16-5c15-4dae-801f-91db27bd703f",
   "metadata": {},
   "source": [
    "A4)"
   ]
  },
  {
   "cell_type": "markdown",
   "id": "99b2ade0-b425-4fc6-aee0-b8e01e49da79",
   "metadata": {},
   "source": [
    "data=[178,177,176,177,178.2,178,175,179,180,175,178.9,176.2,177,172.5,178,176.5]\n",
    "import numpy as np\n",
    "np.std(data)"
   ]
  },
  {
   "cell_type": "markdown",
   "id": "075c08f5-5ddf-4fc5-a9ab-0d3967c40a3a",
   "metadata": {},
   "source": [
    "Q5. How are measures of dispersion such as range, variance, and standard deviation used to describe\n",
    "the spread of a dataset? Provide an example.\n",
    "\n",
    "A5.Range:-The range of a dataset is the difference between the largest and smallest values in that dataset.For example, if the given data set is {2,5,8,10,3}, then the range will be 10 – 2 = 8.\n",
    "   Variance :-Variance is the average squared difference of the values from the mean.eg:Suppose we have the data set {3, 5, 8, 1} and we want to find the population variance. The mean is given as (3 + 5 + 8 + 1) / 4 = 4.25. Then by using the definition of variance we get [(3 - 4.25)2 + (5 - 4.25)2 + (8 - 4.25)2 + (1 - 4.25)2] / 4 = 6.68. Thus, variance = 6.68\n",
    "   Standard deviation:-The standard deviation is just the square root of the variance.eg:-Consider the number of gold coins 5 pirates have; 4, 2, 5, 8, 6.The standard deviation for this is = 2.236\n",
    "   "
   ]
  },
  {
   "cell_type": "markdown",
   "id": "92f2c378-c06d-46ce-8146-cf484579bc93",
   "metadata": {},
   "source": [
    "Q6. What is a Venn diagram?\n",
    "\n",
    "A6.A Venn diagram is an illustration that uses circles to show the relationships among things or finite groups of things. Circles that overlap have a commonality while circles that do not overlap do not share those traits. Venn diagrams help to visually represent the similarities and differences between two concepts."
   ]
  },
  {
   "cell_type": "markdown",
   "id": "114d5493-05e9-447e-9906-9fb74e813a0d",
   "metadata": {},
   "source": [
    "Q7. For the two given sets A = (2,3,4,5,6,7) & B = (0,2,6,8,10). Find:\n",
    "(i) A B\n",
    "(ii) A ⋃ B\n",
    "\n",
    "A7) i) (2,6) ii) (0,2,3,4,5,6,7,8,10)\n"
   ]
  }
 ],
 "metadata": {
  "kernelspec": {
   "display_name": "Python 3 (ipykernel)",
   "language": "python",
   "name": "python3"
  },
  "language_info": {
   "codemirror_mode": {
    "name": "ipython",
    "version": 3
   },
   "file_extension": ".py",
   "mimetype": "text/x-python",
   "name": "python",
   "nbconvert_exporter": "python",
   "pygments_lexer": "ipython3",
   "version": "3.10.8"
  }
 },
 "nbformat": 4,
 "nbformat_minor": 5
}
