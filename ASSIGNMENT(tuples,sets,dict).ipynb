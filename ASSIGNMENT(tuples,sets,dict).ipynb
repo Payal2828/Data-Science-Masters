{
 "cells": [
  {
   "cell_type": "markdown",
   "id": "12d79714-3410-40d1-85ce-f8e5adafc8ac",
   "metadata": {},
   "source": [
    "Q1) What are the characteristics of tuples? Is tuple immutable?"
   ]
  },
  {
   "cell_type": "markdown",
   "id": "a6e77dff-167a-4912-9e2c-c53eadbe1bbe",
   "metadata": {},
   "source": [
    "ans1) Tuples have the given characteristics:\n",
    "\n",
    "They are indexed.\n",
    "Tuples are ordered.\n",
    "These are immutable.\n",
    "They can contain duplicate items.\n",
    "They are used to store heterogeneous and homogeneous data.\n",
    "Tuple are immutable in nature.\n",
    "Tuples are ordered\n",
    "An index is used to traverse a tuple.\n"
   ]
  },
  {
   "cell_type": "markdown",
   "id": "656f4145-6f13-4555-97bf-749e8358f586",
   "metadata": {},
   "source": [
    "Q2)What are the two tuple methods in python? Give an example of each method. Give a reason why\n",
    "tuples have only two in-built methods as compared to lists"
   ]
  },
  {
   "cell_type": "markdown",
   "id": "9494db70-3c7d-45b2-afee-852d9f506277",
   "metadata": {},
   "source": [
    "ans2)The two tuple methods in python are:\n",
    "    a) count() :-Returns the number of times a specified value occurs in a tuple\n",
    "    b) index() :-Searches the tuple for a specified value and returns the position of where it was found\n",
    "    for eg :- if we have tuple t1=(1,2,3,4,45,45.5,45+7j,\"payal\",True) , then t1.count(4) will return output 1 and     t1.index(45) will return output 4.\n",
    "    A tuple does not have many built-in methods because of immutability."
   ]
  },
  {
   "cell_type": "markdown",
   "id": "75a223a5-e4eb-4921-8f5d-60662f92d36b",
   "metadata": {},
   "source": [
    "Q3. Which collection datatypes in python do not allow duplicate items? Write a code using a set to remove\n",
    "duplicates from the given list.\n",
    "List = [1, 1, 1, 2, 1, 3, 1, 4, 2, 1, 2, 2, 2, 3, 2, 4, 3, 1, 3, 2, 3, 3, 3, 4, 4, 1, 4, 2, 4, 3, 4, 4]"
   ]
  },
  {
   "cell_type": "markdown",
   "id": "3db5726b-3ad1-405d-8846-e18a63c22f03",
   "metadata": {},
   "source": [
    "A3) Sets in python do not allow duplicate items."
   ]
  },
  {
   "cell_type": "code",
   "execution_count": 2,
   "id": "c48b700a-bf0e-4184-b6d6-541b4050b200",
   "metadata": {},
   "outputs": [],
   "source": [
    "lst=[1, 1, 1, 2, 1, 3, 1, 4, 2, 1, 2, 2, 2, 3, 2, 4, 3, 1, 3, 2, 3, 3, 3, 4, 4, 1, 4, 2, 4, 3, 4, 4]"
   ]
  },
  {
   "cell_type": "code",
   "execution_count": 4,
   "id": "bb2e67e8-f27a-41ac-9634-8a8249c6d35e",
   "metadata": {},
   "outputs": [
    {
     "data": {
      "text/plain": [
       "{1, 2, 3, 4}"
      ]
     },
     "execution_count": 4,
     "metadata": {},
     "output_type": "execute_result"
    }
   ],
   "source": [
    "set(lst)"
   ]
  },
  {
   "cell_type": "markdown",
   "id": "55c403ea-d457-49c9-a0e7-a31afee9dff1",
   "metadata": {},
   "source": [
    "Q4. Explain the difference between the union() and update() methods for a set. Give an example of\n",
    "each method."
   ]
  },
  {
   "cell_type": "markdown",
   "id": "0f2346cd-7b7c-43e1-af4f-58a78058711e",
   "metadata": {},
   "source": [
    "a4)The union() method returns a new set that contains all the elements from both sets. It does not modify the original sets.On the other hand, the update() method modifies the set it is called on to include all the elements from both sets. It does not return a new set.\n",
    "eg-set1 = {1, 2, 3} set2 = {3, 4, 5} set3 = set1.union(set2) print(set3) # Output: {1, 2, 3, 4, 5} print(set1) # Output: {1, 2, 3} print(set2) # Output: {3, 4, 5}\n",
    "set1 = {1, 2, 3} set2 = {3, 4, 5} set1.update(set2) print(set1) # Output: {1, 2, 3, 4, 5} print(set2) # Output: {3, 4, 5}"
   ]
  },
  {
   "cell_type": "markdown",
   "id": "166dced0-19dc-4f06-93ed-0ecddf149532",
   "metadata": {},
   "source": [
    "Q5. What is a dictionary? Give an example. Also, state whether a dictionary is ordered or unordered."
   ]
  },
  {
   "cell_type": "markdown",
   "id": "58f23961-33a7-46c4-8988-69a8ce3592c6",
   "metadata": {},
   "source": [
    "ans5) The dictionary is an unordered collection that contains key:value pairs separated by commas inside curly brackets. Dictionaries are optimized to retrieve values when the key is known.EG:numNames={1:\"One\", 2: \"Two\", 3:\"Three\"} "
   ]
  },
  {
   "cell_type": "markdown",
   "id": "0902203a-b7bc-4e8c-a9bc-854ffd2e45ad",
   "metadata": {},
   "source": [
    "Q6. Can we create a nested dictionary? If so, please give an example by creating a simple one-level\n",
    "nested dictionary."
   ]
  },
  {
   "cell_type": "markdown",
   "id": "19845b94-171d-44f4-8665-732a55367d22",
   "metadata": {},
   "source": [
    "A6) Nesting Dictionary means putting a dictionary inside another dictionary. Nesting is of great use as the kind of information we can model in programs is expanded greatly. EG:nested_dict = { 'dict1': {'key_A': 'value_A'},\n",
    "                'dict2': {'key_B': 'value_B'}}"
   ]
  },
  {
   "cell_type": "markdown",
   "id": "b8c6b9ca-7bd4-4207-b680-5540ec9352c1",
   "metadata": {},
   "source": [
    "Q7. Using setdefault() method, create key named topics in the given dictionary and also add the value of\n",
    "the key as this list ['Python', 'Machine Learning’, 'Deep Learning']\n",
    "dict1 = {'language' : 'Python', 'course': 'Data Science Masters'}"
   ]
  },
  {
   "cell_type": "markdown",
   "id": "20703415-2e5a-4dde-bb7e-34d76edaf582",
   "metadata": {},
   "source": [
    "A7)"
   ]
  },
  {
   "cell_type": "code",
   "execution_count": 5,
   "id": "deb1bee2-09a9-47c1-b4d9-45023b598220",
   "metadata": {},
   "outputs": [
    {
     "data": {
      "text/plain": [
       "['Python', 'Machine Learning', 'Deep Learning']"
      ]
     },
     "execution_count": 5,
     "metadata": {},
     "output_type": "execute_result"
    }
   ],
   "source": [
    "dict1 = {'language' : 'Python', 'course': 'Data Science Masters'}\n",
    "dict1.setdefault(\"topics\",['Python','Machine Learning','Deep Learning'])"
   ]
  },
  {
   "cell_type": "code",
   "execution_count": 6,
   "id": "760b4fd5-ecb1-4f78-9f6c-119435ec64a9",
   "metadata": {},
   "outputs": [
    {
     "data": {
      "text/plain": [
       "{'language': 'Python',\n",
       " 'course': 'Data Science Masters',\n",
       " 'topics': ['Python', 'Machine Learning', 'Deep Learning']}"
      ]
     },
     "execution_count": 6,
     "metadata": {},
     "output_type": "execute_result"
    }
   ],
   "source": [
    "dict1"
   ]
  },
  {
   "cell_type": "markdown",
   "id": "70ee72fa-dbd6-453f-b928-97a7c98f3e69",
   "metadata": {},
   "source": [
    "Q8. What are the three view objects in dictionaries? Use the three in-built methods in python to display\n",
    "these three view objects for the given dictionary.\n",
    "dict1 = {'Sport': 'Cricket' , 'Teams': ['India', 'Australia', 'England', 'South Africa', 'Sri Lanka', 'New Zealand']}"
   ]
  },
  {
   "cell_type": "markdown",
   "id": "290cec7d-b5e4-4b17-a45b-dc6850a4f905",
   "metadata": {},
   "source": [
    "A8) 1)The view object keys represent all the keys in a dictionary. You can retrieve the contents of this object using the keys() method.\n",
    "2)values() is an built in method of Python programming language which returns a view object. That view object contains the value of the dictionary as a list.\n",
    "3)The items() method returns a new view of the dictionary’s items ((key, value) pairs) as a list with all dictionary keys with values."
   ]
  },
  {
   "cell_type": "code",
   "execution_count": 7,
   "id": "92a0aef8-4d0e-47e8-9f8d-5c4a446adfae",
   "metadata": {},
   "outputs": [],
   "source": [
    "dict1 = {'Sport': 'Cricket' , 'Teams': ['India', 'Australia', 'England', 'South Africa', 'Sri Lanka', 'New Zealand']}\n"
   ]
  },
  {
   "cell_type": "code",
   "execution_count": 8,
   "id": "bec48671-b9a4-48c9-9899-5b9320b80abe",
   "metadata": {},
   "outputs": [
    {
     "data": {
      "text/plain": [
       "dict_keys(['Sport', 'Teams'])"
      ]
     },
     "execution_count": 8,
     "metadata": {},
     "output_type": "execute_result"
    }
   ],
   "source": [
    "dict1.keys() #all keys will appear"
   ]
  },
  {
   "cell_type": "code",
   "execution_count": 10,
   "id": "4e594b8d-b031-4b50-8f23-c0e1bb5f6b90",
   "metadata": {},
   "outputs": [
    {
     "data": {
      "text/plain": [
       "dict_values(['Cricket', ['India', 'Australia', 'England', 'South Africa', 'Sri Lanka', 'New Zealand']])"
      ]
     },
     "execution_count": 10,
     "metadata": {},
     "output_type": "execute_result"
    }
   ],
   "source": [
    "dict1.values() #all the values will appear"
   ]
  },
  {
   "cell_type": "code",
   "execution_count": null,
   "id": "f073d0e1-34ee-456a-bd8a-82f859444018",
   "metadata": {},
   "outputs": [],
   "source": [
    "dict1"
   ]
  },
  {
   "cell_type": "code",
   "execution_count": null,
   "id": "3a4c79f0-8dbf-472d-bc2f-031f16e53e74",
   "metadata": {},
   "outputs": [],
   "source": []
  }
 ],
 "metadata": {
  "kernelspec": {
   "display_name": "Python 3 (ipykernel)",
   "language": "python",
   "name": "python3"
  },
  "language_info": {
   "codemirror_mode": {
    "name": "ipython",
    "version": 3
   },
   "file_extension": ".py",
   "mimetype": "text/x-python",
   "name": "python",
   "nbconvert_exporter": "python",
   "pygments_lexer": "ipython3",
   "version": "3.10.8"
  }
 },
 "nbformat": 4,
 "nbformat_minor": 5
}
